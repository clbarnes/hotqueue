{
 "cells": [
  {
   "cell_type": "code",
   "execution_count": 19,
   "metadata": {
    "collapsed": false,
    "scrolled": false
   },
   "outputs": [
    {
     "data": {
      "text/html": [
       "<style>\n",
       ".box{\n",
       "    float:left;\n",
       "    margin-right:20px;\n",
       "    width:48%;\n",
       "}\n",
       ".clear{\n",
       "    clear:both;\n",
       "}</style><p><strong>Directions</strong><ol><li>Run the code block from the left notebook first (this code will not exit)</li><li>Run all the cells from the right notebook</li><li>Change the argument in the queue.put() call and watch what happens</li></ol></p><div class=\"box\"><iframe src=\"http://localhost:8888/notebooks/notebook/writer.ipynb\" frameborder=\"0\" scrolling=\"no\" width=\"100%\" height=\"768\" align=\"left\"> </iframe> </div><div class=\"box\"><iframe src=\"http://localhost:8888/notebooks/notebook/reader.ipynb\" frameborder=\"0\" scrolling=\"no\" width=\"100%\" height=\"768\" align=\"right\"></iframe> </div>"
      ],
      "text/plain": [
       "<IPython.core.display.HTML object>"
      ]
     },
     "metadata": {},
     "output_type": "display_data"
    }
   ],
   "source": [
    "%%html\n",
    "<style>\n",
    ".box{\n",
    "    float:left;\n",
    "    margin-right:20px;\n",
    "    width:48%;\n",
    "}\n",
    ".clear{\n",
    "    clear:both;\n",
    "}</style><p><strong>Directions</strong><ol><li>Run the code block from the left notebook first (this code will not exit)</li><li>Run all the cells from the right notebook</li><li>Change the argument in the queue.put() call and watch what happens</li></ol></p><div class=\"box\"><iframe src=\"http://localhost:8888/notebooks/notebook/writer.ipynb\" frameborder=\"0\" scrolling=\"no\" width=\"100%\" height=\"768\" align=\"left\"> </iframe> </div><div class=\"box\"><iframe src=\"http://localhost:8888/notebooks/notebook/reader.ipynb\" frameborder=\"0\" scrolling=\"no\" width=\"100%\" height=\"768\" align=\"right\"></iframe> </div>"
   ]
  }
 ],
 "metadata": {
  "kernelspec": {
   "display_name": "Python 2",
   "language": "python",
   "name": "python2"
  },
  "language_info": {
   "codemirror_mode": {
    "name": "ipython",
    "version": 2
   },
   "file_extension": ".py",
   "mimetype": "text/x-python",
   "name": "python",
   "nbconvert_exporter": "python",
   "pygments_lexer": "ipython2",
   "version": "2.7.9"
  }
 },
 "nbformat": 4,
 "nbformat_minor": 0
}
